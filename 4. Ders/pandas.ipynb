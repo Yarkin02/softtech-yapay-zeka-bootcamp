{
 "cells": [
  {
   "cell_type": "markdown",
   "id": "b0a368f2-7283-46c6-92a6-7db860279949",
   "metadata": {},
   "source": [
    "# Pandas"
   ]
  },
  {
   "cell_type": "code",
   "execution_count": 1,
   "id": "e79cee9c-5581-45b3-8bc1-5e9611fbb28a",
   "metadata": {
    "tags": []
   },
   "outputs": [],
   "source": [
    "import pandas as pd"
   ]
  },
  {
   "cell_type": "code",
   "execution_count": 2,
   "id": "dafc00ad-fd24-49db-a899-ad41940fde9d",
   "metadata": {
    "tags": []
   },
   "outputs": [
    {
     "data": {
      "text/html": [
       "<div>\n",
       "<style scoped>\n",
       "    .dataframe tbody tr th:only-of-type {\n",
       "        vertical-align: middle;\n",
       "    }\n",
       "\n",
       "    .dataframe tbody tr th {\n",
       "        vertical-align: top;\n",
       "    }\n",
       "\n",
       "    .dataframe thead th {\n",
       "        text-align: right;\n",
       "    }\n",
       "</style>\n",
       "<table border=\"1\" class=\"dataframe\">\n",
       "  <thead>\n",
       "    <tr style=\"text-align: right;\">\n",
       "      <th></th>\n",
       "      <th>İsim</th>\n",
       "      <th>Yaş</th>\n",
       "      <th>Maaş</th>\n",
       "    </tr>\n",
       "  </thead>\n",
       "  <tbody>\n",
       "    <tr>\n",
       "      <th>0</th>\n",
       "      <td>Ali</td>\n",
       "      <td>15</td>\n",
       "      <td>100</td>\n",
       "    </tr>\n",
       "    <tr>\n",
       "      <th>1</th>\n",
       "      <td>Veli</td>\n",
       "      <td>16</td>\n",
       "      <td>150</td>\n",
       "    </tr>\n",
       "    <tr>\n",
       "      <th>2</th>\n",
       "      <td>Kenan</td>\n",
       "      <td>17</td>\n",
       "      <td>240</td>\n",
       "    </tr>\n",
       "    <tr>\n",
       "      <th>3</th>\n",
       "      <td>Murat</td>\n",
       "      <td>33</td>\n",
       "      <td>350</td>\n",
       "    </tr>\n",
       "    <tr>\n",
       "      <th>4</th>\n",
       "      <td>Ayşe</td>\n",
       "      <td>45</td>\n",
       "      <td>110</td>\n",
       "    </tr>\n",
       "    <tr>\n",
       "      <th>5</th>\n",
       "      <td>Hilal</td>\n",
       "      <td>66</td>\n",
       "      <td>220</td>\n",
       "    </tr>\n",
       "  </tbody>\n",
       "</table>\n",
       "</div>"
      ],
      "text/plain": [
       "    İsim  Yaş  Maaş\n",
       "0    Ali   15   100\n",
       "1   Veli   16   150\n",
       "2  Kenan   17   240\n",
       "3  Murat   33   350\n",
       "4   Ayşe   45   110\n",
       "5  Hilal   66   220"
      ]
     },
     "execution_count": 2,
     "metadata": {},
     "output_type": "execute_result"
    }
   ],
   "source": [
    "# Dataframe oluşturma.\n",
    "dictionary = {\"İsim\": [\"Ali\", \"Veli\", \"Kenan\", \"Murat\", \"Ayşe\", \"Hilal\"],\n",
    "             \"Yaş\": [15, 16, 17, 33, 45, 66],\n",
    "             \"Maaş\": [100, 150, 240, 350, 110, 220]}\n",
    "\n",
    "df = pd.DataFrame(dictionary) # DataFrame = Pandas değişken tipi\n",
    "df"
   ]
  },
  {
   "cell_type": "code",
   "execution_count": 3,
   "id": "5466f9b1-bb27-4c6a-899d-1995faca2c80",
   "metadata": {
    "tags": []
   },
   "outputs": [
    {
     "name": "stdout",
     "output_type": "stream",
     "text": [
      "<class 'pandas.core.frame.DataFrame'>\n",
      "RangeIndex: 6 entries, 0 to 5\n",
      "Data columns (total 3 columns):\n",
      " #   Column  Non-Null Count  Dtype \n",
      "---  ------  --------------  ----- \n",
      " 0   İsim    6 non-null      object\n",
      " 1   Yaş     6 non-null      int64 \n",
      " 2   Maaş    6 non-null      int64 \n",
      "dtypes: int64(2), object(1)\n",
      "memory usage: 276.0+ bytes\n"
     ]
    },
    {
     "data": {
      "text/html": [
       "<div>\n",
       "<style scoped>\n",
       "    .dataframe tbody tr th:only-of-type {\n",
       "        vertical-align: middle;\n",
       "    }\n",
       "\n",
       "    .dataframe tbody tr th {\n",
       "        vertical-align: top;\n",
       "    }\n",
       "\n",
       "    .dataframe thead th {\n",
       "        text-align: right;\n",
       "    }\n",
       "</style>\n",
       "<table border=\"1\" class=\"dataframe\">\n",
       "  <thead>\n",
       "    <tr style=\"text-align: right;\">\n",
       "      <th></th>\n",
       "      <th>count</th>\n",
       "      <th>mean</th>\n",
       "      <th>std</th>\n",
       "      <th>min</th>\n",
       "      <th>25%</th>\n",
       "      <th>50%</th>\n",
       "      <th>75%</th>\n",
       "      <th>max</th>\n",
       "    </tr>\n",
       "  </thead>\n",
       "  <tbody>\n",
       "    <tr>\n",
       "      <th>Yaş</th>\n",
       "      <td>6.0</td>\n",
       "      <td>32.0</td>\n",
       "      <td>20.474374</td>\n",
       "      <td>15.0</td>\n",
       "      <td>16.25</td>\n",
       "      <td>25.0</td>\n",
       "      <td>42.0</td>\n",
       "      <td>66.0</td>\n",
       "    </tr>\n",
       "    <tr>\n",
       "      <th>Maaş</th>\n",
       "      <td>6.0</td>\n",
       "      <td>195.0</td>\n",
       "      <td>94.815611</td>\n",
       "      <td>100.0</td>\n",
       "      <td>120.00</td>\n",
       "      <td>185.0</td>\n",
       "      <td>235.0</td>\n",
       "      <td>350.0</td>\n",
       "    </tr>\n",
       "  </tbody>\n",
       "</table>\n",
       "</div>"
      ],
      "text/plain": [
       "      count   mean        std    min     25%    50%    75%    max\n",
       "Yaş     6.0   32.0  20.474374   15.0   16.25   25.0   42.0   66.0\n",
       "Maaş    6.0  195.0  94.815611  100.0  120.00  185.0  235.0  350.0"
      ]
     },
     "execution_count": 3,
     "metadata": {},
     "output_type": "execute_result"
    }
   ],
   "source": [
    "# Verinin ilk 5 satırını gözlemlemek.\n",
    "df.head()\n",
    "\n",
    "# Verinin son 5 satırını gözlemlemek.\n",
    "df.tail()\n",
    "\n",
    "# Verinin sütun isimlerine erişmek.\n",
    "df.columns\n",
    "\n",
    "# Veri seti içerisindeki değişkenlere ait çeşitli bilgileri sunar. (Veri tipi, gözlem sayısı, sütun isimleri)\n",
    "df.info()\n",
    "\n",
    "# Veri setindeki numerik değişkenlere ait istatistiksel özellikleri verir.\n",
    "df.describe().T"
   ]
  },
  {
   "cell_type": "code",
   "execution_count": 4,
   "id": "76dc3cca-8150-4771-9703-4d5af578a811",
   "metadata": {
    "tags": []
   },
   "outputs": [
    {
     "data": {
      "text/html": [
       "<div>\n",
       "<style scoped>\n",
       "    .dataframe tbody tr th:only-of-type {\n",
       "        vertical-align: middle;\n",
       "    }\n",
       "\n",
       "    .dataframe tbody tr th {\n",
       "        vertical-align: top;\n",
       "    }\n",
       "\n",
       "    .dataframe thead th {\n",
       "        text-align: right;\n",
       "    }\n",
       "</style>\n",
       "<table border=\"1\" class=\"dataframe\">\n",
       "  <thead>\n",
       "    <tr style=\"text-align: right;\">\n",
       "      <th></th>\n",
       "      <th>count</th>\n",
       "      <th>mean</th>\n",
       "      <th>std</th>\n",
       "      <th>min</th>\n",
       "      <th>25%</th>\n",
       "      <th>50%</th>\n",
       "      <th>75%</th>\n",
       "      <th>max</th>\n",
       "    </tr>\n",
       "  </thead>\n",
       "  <tbody>\n",
       "    <tr>\n",
       "      <th>Yaş</th>\n",
       "      <td>6.0</td>\n",
       "      <td>32.0</td>\n",
       "      <td>20.474374</td>\n",
       "      <td>15.0</td>\n",
       "      <td>16.25</td>\n",
       "      <td>25.0</td>\n",
       "      <td>42.0</td>\n",
       "      <td>66.0</td>\n",
       "    </tr>\n",
       "    <tr>\n",
       "      <th>Maaş</th>\n",
       "      <td>6.0</td>\n",
       "      <td>195.0</td>\n",
       "      <td>94.815611</td>\n",
       "      <td>100.0</td>\n",
       "      <td>120.00</td>\n",
       "      <td>185.0</td>\n",
       "      <td>235.0</td>\n",
       "      <td>350.0</td>\n",
       "    </tr>\n",
       "  </tbody>\n",
       "</table>\n",
       "</div>"
      ],
      "text/plain": [
       "      count   mean        std    min     25%    50%    75%    max\n",
       "Yaş     6.0   32.0  20.474374   15.0   16.25   25.0   42.0   66.0\n",
       "Maaş    6.0  195.0  94.815611  100.0  120.00  185.0  235.0  350.0"
      ]
     },
     "execution_count": 4,
     "metadata": {},
     "output_type": "execute_result"
    }
   ],
   "source": [
    "df.describe().T"
   ]
  },
  {
   "cell_type": "code",
   "execution_count": 5,
   "id": "53ef4aaa-b631-4526-9c03-54553bf1dbaf",
   "metadata": {
    "tags": []
   },
   "outputs": [
    {
     "name": "stdout",
     "output_type": "stream",
     "text": [
      "İlk 5 gözlem\n",
      "   Çalışan Adı    Departman  Maaş  Deneyim Yılı\n",
      "0       Ahmet     Muhasebe  7000             3\n",
      "1      Zeynep  Mühendislik  9500             7\n",
      "2        Emre           İK  6000             2\n",
      "3        Ayşe        Satış  7200             4\n",
      "- - - - - - - - - - - - - - - - - - - - - - - - - - -\n",
      "Son 5 gözlem\n",
      "   Çalışan Adı    Departman  Maaş  Deneyim Yılı\n",
      "0       Ahmet     Muhasebe  7000             3\n",
      "1      Zeynep  Mühendislik  9500             7\n",
      "2        Emre           İK  6000             2\n",
      "3        Ayşe        Satış  7200             4\n",
      "- - - - - - - - - - - - - - - - - - - - - - - - - - -\n",
      "Değişken isimleri\n",
      " Index(['Çalışan Adı', 'Departman', 'Maaş', 'Deneyim Yılı'], dtype='object')\n",
      "- - - - - - - - - - - - - - - - - - - - - - - - - - -\n",
      "<class 'pandas.core.frame.DataFrame'>\n",
      "RangeIndex: 4 entries, 0 to 3\n",
      "Data columns (total 4 columns):\n",
      " #   Column        Non-Null Count  Dtype \n",
      "---  ------        --------------  ----- \n",
      " 0   Çalışan Adı   4 non-null      object\n",
      " 1   Departman     4 non-null      object\n",
      " 2   Maaş          4 non-null      int64 \n",
      " 3   Deneyim Yılı  4 non-null      int64 \n",
      "dtypes: int64(2), object(2)\n",
      "memory usage: 260.0+ bytes\n",
      "Veri setine ait temel bilgiler\n",
      " None\n",
      "- - - - - - - - - - - - - - - - - - - - - - - - - - -\n",
      "Numerik değişkenlere ait istatistikler\n",
      "               Maaş  Deneyim Yılı\n",
      "count     4.000000      4.000000\n",
      "mean   7425.000000      4.000000\n",
      "std    1479.583275      2.160247\n",
      "min    6000.000000      2.000000\n",
      "25%    6750.000000      2.750000\n",
      "50%    7100.000000      3.500000\n",
      "75%    7775.000000      4.750000\n",
      "max    9500.000000      7.000000\n"
     ]
    }
   ],
   "source": [
    "# Ders içi ödev\n",
    "\n",
    "df_dict = {\n",
    "    'Çalışan Adı': ['Ahmet', 'Zeynep', 'Emre', 'Ayşe'],\n",
    "    'Departman': ['Muhasebe', 'Mühendislik', 'İK', 'Satış'],\n",
    "    'Maaş': [7000, 9500, 6000, 7200],\n",
    "    'Deneyim Yılı': [3, 7, 2, 4]\n",
    "}\n",
    "\n",
    "df2 = pd.DataFrame(df_dict)\n",
    "\n",
    "print(\"İlk 5 gözlem\\n\", df2.head())\n",
    "print(\"- - - - - - - - - - - - - - - - - - - - - - - - - - -\")\n",
    "print(\"Son 5 gözlem\\n\", df2.tail())\n",
    "print(\"- - - - - - - - - - - - - - - - - - - - - - - - - - -\")\n",
    "print(\"Değişken isimleri\\n\", df2.columns)\n",
    "print(\"- - - - - - - - - - - - - - - - - - - - - - - - - - -\")\n",
    "print(\"Veri setine ait temel bilgiler\\n\", df2.info())\n",
    "print(\"- - - - - - - - - - - - - - - - - - - - - - - - - - -\")\n",
    "print(\"Numerik değişkenlere ait istatistikler\\n\", df2.describe())"
   ]
  },
  {
   "cell_type": "markdown",
   "id": "528082a2-5b41-4e74-904f-8c2d03877fbe",
   "metadata": {},
   "source": [
    "## Indexing & Slicing"
   ]
  },
  {
   "cell_type": "code",
   "execution_count": 6,
   "id": "e62f25aa-9bd4-4d80-a534-9df04e77e1df",
   "metadata": {
    "tags": []
   },
   "outputs": [],
   "source": [
    "# Dataframe oluşturma.\n",
    "dictionary = {\"İsim\": [\"Ali\", \"Veli\", \"Kenan\", \"Murat\", \"Ayşe\", \"Hilal\"],\n",
    "             \"Yaş\": [15, 16, 17, 33, 45, 66],\n",
    "             \"Maaş\": [100, 150, 240, 350, 110, 220]}\n",
    "\n",
    "df = pd.DataFrame(dictionary)"
   ]
  },
  {
   "cell_type": "code",
   "execution_count": 7,
   "id": "b2a1684f-70d5-46ac-a92d-db2d7f325859",
   "metadata": {
    "tags": []
   },
   "outputs": [],
   "source": [
    "df[\"Yaş\"] # Yaş değişkeninindeki değerlere erişilir.\n",
    "df[\"Maaş\"] # Maaş değişkeninindeki değerlere erişilir.\n",
    "df[\"İsim\"] # İsim değişkeninindeki değerlere erişilir.\n",
    "\n",
    "# Dataframe Şehir adında yeni bir değişken eklemek.\n",
    "df[\"Şehir\"] = [\"İstanbul\", \"Ankara\", \"İzmir\", \"Bursa\", \"Manisa\", \"Kocaeli\"]\n",
    "\n",
    "# %20 Zamlı halde maaş değişkeni oluşturmak.\n",
    "df[\"Maas_yuzde_20_zamli\"] = df[\"Maaş\"] + (20*df[\"Maaş\"]/100)"
   ]
  },
  {
   "cell_type": "code",
   "execution_count": 8,
   "id": "97d049c8-e29f-4549-bb71-cc8be3f1c92c",
   "metadata": {
    "tags": []
   },
   "outputs": [
    {
     "data": {
      "text/html": [
       "<div>\n",
       "<style scoped>\n",
       "    .dataframe tbody tr th:only-of-type {\n",
       "        vertical-align: middle;\n",
       "    }\n",
       "\n",
       "    .dataframe tbody tr th {\n",
       "        vertical-align: top;\n",
       "    }\n",
       "\n",
       "    .dataframe thead th {\n",
       "        text-align: right;\n",
       "    }\n",
       "</style>\n",
       "<table border=\"1\" class=\"dataframe\">\n",
       "  <thead>\n",
       "    <tr style=\"text-align: right;\">\n",
       "      <th></th>\n",
       "      <th>Yaş</th>\n",
       "      <th>Maaş</th>\n",
       "      <th>Şehir</th>\n",
       "    </tr>\n",
       "  </thead>\n",
       "  <tbody>\n",
       "    <tr>\n",
       "      <th>0</th>\n",
       "      <td>15</td>\n",
       "      <td>100</td>\n",
       "      <td>İstanbul</td>\n",
       "    </tr>\n",
       "    <tr>\n",
       "      <th>1</th>\n",
       "      <td>16</td>\n",
       "      <td>150</td>\n",
       "      <td>Ankara</td>\n",
       "    </tr>\n",
       "    <tr>\n",
       "      <th>2</th>\n",
       "      <td>17</td>\n",
       "      <td>240</td>\n",
       "      <td>İzmir</td>\n",
       "    </tr>\n",
       "  </tbody>\n",
       "</table>\n",
       "</div>"
      ],
      "text/plain": [
       "   Yaş  Maaş     Şehir\n",
       "0   15   100  İstanbul\n",
       "1   16   150    Ankara\n",
       "2   17   240     İzmir"
      ]
     },
     "execution_count": 8,
     "metadata": {},
     "output_type": "execute_result"
    }
   ],
   "source": [
    "# loc : Location\n",
    "\n",
    "df.loc[:, \"Yaş\"] # Tüm satırları ve yaş sütununu çıkartır.\n",
    "df.loc[0:3, \"Yaş\"] # 0'dan 3'e kadar satırları ve yaş sütununu çıkartır.\n",
    "df.loc[0:2, 'Yaş':'Şehir'] # 0'dan 2'ye kadar satırları ve yaştan şehire kadar sütunları çıkartır."
   ]
  },
  {
   "cell_type": "code",
   "execution_count": 9,
   "id": "7c70f5b7-2b22-4d53-8993-073c9824c8af",
   "metadata": {
    "tags": []
   },
   "outputs": [
    {
     "data": {
      "text/html": [
       "<div>\n",
       "<style scoped>\n",
       "    .dataframe tbody tr th:only-of-type {\n",
       "        vertical-align: middle;\n",
       "    }\n",
       "\n",
       "    .dataframe tbody tr th {\n",
       "        vertical-align: top;\n",
       "    }\n",
       "\n",
       "    .dataframe thead th {\n",
       "        text-align: right;\n",
       "    }\n",
       "</style>\n",
       "<table border=\"1\" class=\"dataframe\">\n",
       "  <thead>\n",
       "    <tr style=\"text-align: right;\">\n",
       "      <th></th>\n",
       "      <th>Yaş</th>\n",
       "      <th>Maaş</th>\n",
       "    </tr>\n",
       "  </thead>\n",
       "  <tbody>\n",
       "    <tr>\n",
       "      <th>0</th>\n",
       "      <td>15</td>\n",
       "      <td>100</td>\n",
       "    </tr>\n",
       "    <tr>\n",
       "      <th>1</th>\n",
       "      <td>16</td>\n",
       "      <td>150</td>\n",
       "    </tr>\n",
       "    <tr>\n",
       "      <th>2</th>\n",
       "      <td>17</td>\n",
       "      <td>240</td>\n",
       "    </tr>\n",
       "    <tr>\n",
       "      <th>3</th>\n",
       "      <td>33</td>\n",
       "      <td>350</td>\n",
       "    </tr>\n",
       "    <tr>\n",
       "      <th>4</th>\n",
       "      <td>45</td>\n",
       "      <td>110</td>\n",
       "    </tr>\n",
       "    <tr>\n",
       "      <th>5</th>\n",
       "      <td>66</td>\n",
       "      <td>220</td>\n",
       "    </tr>\n",
       "  </tbody>\n",
       "</table>\n",
       "</div>"
      ],
      "text/plain": [
       "   Yaş  Maaş\n",
       "0   15   100\n",
       "1   16   150\n",
       "2   17   240\n",
       "3   33   350\n",
       "4   45   110\n",
       "5   66   220"
      ]
     },
     "execution_count": 9,
     "metadata": {},
     "output_type": "execute_result"
    }
   ],
   "source": [
    "# iloc : İndex Location\n",
    "\n",
    "df.iloc[:, 1] # Tüm satırları ve 1 indeksli sütunu yazdırır.\n",
    "df.iloc[:, 1:3] # Tüm satırları ve 1'den 3'e kadar indeksli değişkenleri yazdırır."
   ]
  },
  {
   "cell_type": "code",
   "execution_count": 10,
   "id": "534bdd3a-9852-4178-b6b9-da9ce714a08c",
   "metadata": {
    "tags": []
   },
   "outputs": [
    {
     "name": "stdout",
     "output_type": "stream",
     "text": [
      "İsim    Murat\n",
      "Yaş        33\n",
      "Name: 3, dtype: object\n",
      "   Yaş  Maaş\n",
      "4   45   110\n",
      "5   66   220\n",
      "Veli 45\n",
      "İsim    Murat\n",
      "Yaş        33\n",
      "Name: 3, dtype: object\n",
      "   Yaş  Maaş\n",
      "4   45   110\n",
      "5   66   220\n",
      "Veli 45\n"
     ]
    }
   ],
   "source": [
    "\"\"\"\n",
    "1-) df kullanarak Murat ve 33'ün print edilmesi.\n",
    "2-) 45, 110,\n",
    "    66, 220'nin print edilmesi.\n",
    "3-) Veli ve 45'in print edilmesi.\n",
    "\"\"\"\n",
    "\n",
    "# Iloc ile\n",
    "print(df.iloc[3, 0:2]) # 1.sorunun cevabı.\n",
    "print(df.iloc[4:6, 1:3]) # 2.sorunun cevabı.\n",
    "print(df.iloc[1, 0], df.iloc[4, 1]) # 3.Sorunun cevabı\n",
    "\n",
    "# Loc ile\n",
    "print(df.loc[3, \"İsim\":\"Yaş\"]) # 1.sorunun cevabı.\n",
    "print(df.loc[4:5, \"Yaş\":\"Maaş\"]) # 2.sorunun cevabı.\n",
    "print(df.loc[1, \"İsim\"], df.loc[4, \"Yaş\"]) # 3.Sorunun cevabı"
   ]
  },
  {
   "cell_type": "markdown",
   "id": "47b09714-b986-4644-9ed7-97f66ead371f",
   "metadata": {},
   "source": [
    "## Filtering"
   ]
  },
  {
   "cell_type": "code",
   "execution_count": 11,
   "id": "509fdf59-923d-4920-b75f-1d1bd0afad76",
   "metadata": {
    "tags": []
   },
   "outputs": [
    {
     "data": {
      "text/html": [
       "<div>\n",
       "<style scoped>\n",
       "    .dataframe tbody tr th:only-of-type {\n",
       "        vertical-align: middle;\n",
       "    }\n",
       "\n",
       "    .dataframe tbody tr th {\n",
       "        vertical-align: top;\n",
       "    }\n",
       "\n",
       "    .dataframe thead th {\n",
       "        text-align: right;\n",
       "    }\n",
       "</style>\n",
       "<table border=\"1\" class=\"dataframe\">\n",
       "  <thead>\n",
       "    <tr style=\"text-align: right;\">\n",
       "      <th></th>\n",
       "      <th>İsim</th>\n",
       "      <th>Yaş</th>\n",
       "      <th>Maaş</th>\n",
       "      <th>Şehir</th>\n",
       "      <th>Maas_yuzde_20_zamli</th>\n",
       "    </tr>\n",
       "  </thead>\n",
       "  <tbody>\n",
       "    <tr>\n",
       "      <th>4</th>\n",
       "      <td>Ayşe</td>\n",
       "      <td>45</td>\n",
       "      <td>110</td>\n",
       "      <td>Manisa</td>\n",
       "      <td>132.0</td>\n",
       "    </tr>\n",
       "  </tbody>\n",
       "</table>\n",
       "</div>"
      ],
      "text/plain": [
       "   İsim  Yaş  Maaş   Şehir  Maas_yuzde_20_zamli\n",
       "4  Ayşe   45   110  Manisa                132.0"
      ]
     },
     "execution_count": 11,
     "metadata": {},
     "output_type": "execute_result"
    }
   ],
   "source": [
    "df[df[\"Yaş\"] > 22] # 22 yaşından büyük kişilere erişme.\n",
    "df[df[\"Şehir\"] == \"İzmir\"] # İzmir'de yaşayan kişilere erişme.\n",
    "df[(df[\"Şehir\"] == \"Manisa\") & (df[\"Yaş\"] > 20)] # Manisa'da yaşayan ve yaşı 20'den büyük olan satırları filtreler."
   ]
  },
  {
   "cell_type": "code",
   "execution_count": 12,
   "id": "13a1ccbc-1fc8-437a-8b29-0ae50ff0191f",
   "metadata": {
    "tags": []
   },
   "outputs": [
    {
     "data": {
      "text/plain": [
       "330"
      ]
     },
     "execution_count": 12,
     "metadata": {},
     "output_type": "execute_result"
    }
   ],
   "source": [
    "\"\"\"\n",
    "1-) DataFrame'e maaş sütunu ekle.\n",
    "2-) yaş/maaş oran sütunu ekle.\n",
    "3-) yaş/maaş sütunu için ortalamayı print et.\n",
    "4-) Ankara'da yaşayanların ortalama yaşını bul.\n",
    "5-) Ankara'da yaşayanların içinden en yüksek maaş alanı bul.\n",
    "\"\"\"\n",
    "\n",
    "# Dataframe oluşturma.\n",
    "dictionary = {\"İsim\": [\"Ali\", \"Veli\", \"Kenan\", \"Murat\", \"Ayşe\", \"Hilal\"],\n",
    "             \"Yaş\": [15, 16, 17, 33, 45, 66],\n",
    "             \"Şehir\": [\"İzmir\", \"Ankara\", \"Konya\", \"Ankara\", \"Ankara\", \"Antalya\"]}\n",
    "\n",
    "df = pd.DataFrame(dictionary)\n",
    "\n",
    "df[\"Maaş\"] = [150, 200, 250, 330, 220, 500] # 1.Sorunun cevabı\n",
    "df[\"Yaş_Maaş_Oranı\"] = df[\"Yaş\"] / df[\"Maaş\"] # 2.Sorunun cevabı\n",
    "df[\"Yaş_Maaş_Oranı\"].mean() # 3.Sorunun cevabı\n",
    "df[df[\"Şehir\"] == \"Ankara\"][\"Yaş\"].mean() # 4.Sorunun cevabı\n",
    "df[df[\"Şehir\"] == \"Ankara\"][\"Maaş\"].max() # 5.Sorunun cevabı"
   ]
  },
  {
   "cell_type": "code",
   "execution_count": 13,
   "id": "9e46b9ff-0eee-4272-8a37-c67a64aaba13",
   "metadata": {
    "tags": []
   },
   "outputs": [
    {
     "name": "stdout",
     "output_type": "stream",
     "text": [
      "Hilal\n"
     ]
    },
    {
     "data": {
      "text/plain": [
       "'Hilal'"
      ]
     },
     "execution_count": 13,
     "metadata": {},
     "output_type": "execute_result"
    }
   ],
   "source": [
    "\"\"\"\n",
    "For döngüsü kullanarak, maximum maaş alanın ismini yazdıralım.\n",
    "\"\"\"\n",
    "\n",
    "maks_maas = 0\n",
    "maks_isim = \"\"\n",
    "\n",
    "for i in range(len(df[\"Maaş\"])):\n",
    "    if df[\"Maaş\"][i] > maks_maas:\n",
    "        maks_maas = df[\"Maaş\"][i]\n",
    "        maks_isim = df[\"İsim\"][i]\n",
    "print(maks_isim)\n",
    "\n",
    "# idxmax en yüksek değerin indeksini döndürür.\n",
    "df.loc[df[\"Maaş\"].idxmax(), \"İsim\"] # Aynı işlemi yapan kısa bir kod."
   ]
  },
  {
   "cell_type": "markdown",
   "id": "6bb0f6db-f2e3-4984-8ee9-85d747c11d38",
   "metadata": {},
   "source": [
    "## List Comprehension - Liste Kavrama"
   ]
  },
  {
   "cell_type": "code",
   "execution_count": 14,
   "id": "3b81a4e8-6ca4-4378-a2ab-9218fff57e3d",
   "metadata": {
    "tags": []
   },
   "outputs": [],
   "source": [
    "dictionary = {\"İsim\": [\"Ali\", \"Veli\", \"Kenan\", \"Murat\", \"Ayşe\", \"Hilal\"],\n",
    "             \"Yaş\": [15, 16, 17, 33, 45, 66],\n",
    "             \"Şehir\": [\"İzmir\", \"Ankara\", \"Konya\", \"Ankara\", \"Ankara\", \"Antalya\"]}\n",
    "\n",
    "df = pd.DataFrame(dictionary)\n",
    "\n",
    "\"\"\"\n",
    "İnsanların ortalama yaşını bulalım. \n",
    "bu yaştan büyük ve küçük olanları filtreleyelim.\n",
    "büyük olanlarla yeni bir feature oluşturarak büyük, küçük olanlara\n",
    "küçük yazalım.\n",
    "\"\"\"\n",
    "\n",
    "# Çözüm\n",
    "ort_yas = df[\"Yaş\"].mean()\n",
    "\n",
    "df[\"Yaş_Ort_Büyük\"] = df[\"Yaş\"].apply(lambda x: \"büyük\" if x > ort_yas else \"küçük\")\n",
    "\n",
    "# Veya\n",
    "df[\"Yaş_Ort_Büyük2\"] = [\"Küçük\" if ort_yas > df[\"Yaş\"][i] else \"Büyük\" for i in range(len(df[\"Yaş\"]))]"
   ]
  },
  {
   "cell_type": "code",
   "execution_count": 15,
   "id": "73d37611-04c2-4ed4-8caf-2ea6f0980899",
   "metadata": {
    "tags": []
   },
   "outputs": [],
   "source": [
    "\"\"\"\n",
    "Tüm satırlara bakalım eğer ankarada yaşayan varsa, yaşı x 2 olsun\n",
    "yoksa da yaş x 5 işlemiyle Yeni_Yaş sütunu oluşturalım.\n",
    "\"\"\"\n",
    "# Çözüm\n",
    "yeni_yas_listesi = []\n",
    "\n",
    "for i in range(len(df[\"Şehir\"])):\n",
    "    if (df[\"Şehir\"][i] == \"Ankara\"):\n",
    "        yeni_yas_listesi.append(df[\"Yaş\"][i] * 2)\n",
    "    else:\n",
    "        yeni_yas_listesi.append(df[\"Yaş\"][i] * 5)\n",
    "        \n",
    "# Veya        \n",
    "df[\"Yeni_Yaş2\"] = [df[\"Yaş\"][i] * 2 if df[\"Şehir\"][i] == \"Ankara\" else df[\"Yaş\"][i] * 5 for i in range(len(df[\"Yaş\"]))]\n",
    "\n",
    "# Veya\n",
    "def yascarpim(df):\n",
    "    if df[\"Şehir\"] == \"Ankara\":\n",
    "        return df[\"Yaş\"] * 2\n",
    "    else:\n",
    "        return df[\"Yaş\"] * 5\n",
    "\n",
    "df[\"Yeni_Yaş\"] = df.apply(yascarpim, axis=1)"
   ]
  },
  {
   "cell_type": "code",
   "execution_count": 16,
   "id": "64942fdb-e281-412d-a51c-6f396cde2372",
   "metadata": {
    "tags": []
   },
   "outputs": [],
   "source": [
    "\"\"\"\n",
    "Dataframe'de bulunan insanların isimlerinin uzunluğu 5 ise yeni yaşı\n",
    "2 ile çarpalım eğer isim uzunluğu 4 ise 3 ile çarpalım, hiçbiri değil ise\n",
    "4 ile çarpalım.\n",
    "\"\"\"\n",
    "\n",
    "def yeni_yas_hesapla(df):\n",
    "    isim_uzunlugu = len(df[\"İsim\"])\n",
    "    if isim_uzunlugu == 5:\n",
    "        return df[\"Yaş\"] * 2\n",
    "    elif isim_uzunlugu == 4:\n",
    "        return df[\"Yaş\"] * 3\n",
    "    else:\n",
    "        return df[\"Yaş\"] * 4\n",
    "    \n",
    "df[\"Yeni_Yaş\"] = df.apply(yeni_yas_hesapla, axis = 1)"
   ]
  },
  {
   "cell_type": "code",
   "execution_count": 17,
   "id": "579926e1-1dc9-4a6e-9120-03a4af017d0f",
   "metadata": {
    "tags": []
   },
   "outputs": [
    {
     "data": {
      "text/html": [
       "<div>\n",
       "<style scoped>\n",
       "    .dataframe tbody tr th:only-of-type {\n",
       "        vertical-align: middle;\n",
       "    }\n",
       "\n",
       "    .dataframe tbody tr th {\n",
       "        vertical-align: top;\n",
       "    }\n",
       "\n",
       "    .dataframe thead th {\n",
       "        text-align: right;\n",
       "    }\n",
       "</style>\n",
       "<table border=\"1\" class=\"dataframe\">\n",
       "  <thead>\n",
       "    <tr style=\"text-align: right;\">\n",
       "      <th></th>\n",
       "      <th>İsim</th>\n",
       "      <th>Yaş</th>\n",
       "      <th>Şehir</th>\n",
       "      <th>Yaş_Ort_Büyük</th>\n",
       "      <th>Yaş_Ort_Büyük2</th>\n",
       "      <th>Yeni_Yaş2</th>\n",
       "      <th>Yeni_Yaş</th>\n",
       "    </tr>\n",
       "  </thead>\n",
       "  <tbody>\n",
       "    <tr>\n",
       "      <th>0</th>\n",
       "      <td>Ali</td>\n",
       "      <td>15</td>\n",
       "      <td>İzmir</td>\n",
       "      <td>küçük</td>\n",
       "      <td>Küçük</td>\n",
       "      <td>75</td>\n",
       "      <td>60</td>\n",
       "    </tr>\n",
       "    <tr>\n",
       "      <th>1</th>\n",
       "      <td>Veli</td>\n",
       "      <td>16</td>\n",
       "      <td>Ankara</td>\n",
       "      <td>küçük</td>\n",
       "      <td>Küçük</td>\n",
       "      <td>32</td>\n",
       "      <td>48</td>\n",
       "    </tr>\n",
       "    <tr>\n",
       "      <th>2</th>\n",
       "      <td>Kenan</td>\n",
       "      <td>17</td>\n",
       "      <td>Konya</td>\n",
       "      <td>küçük</td>\n",
       "      <td>Küçük</td>\n",
       "      <td>85</td>\n",
       "      <td>34</td>\n",
       "    </tr>\n",
       "    <tr>\n",
       "      <th>3</th>\n",
       "      <td>Murat</td>\n",
       "      <td>33</td>\n",
       "      <td>Ankara</td>\n",
       "      <td>büyük</td>\n",
       "      <td>Büyük</td>\n",
       "      <td>66</td>\n",
       "      <td>66</td>\n",
       "    </tr>\n",
       "    <tr>\n",
       "      <th>4</th>\n",
       "      <td>Ayşe</td>\n",
       "      <td>45</td>\n",
       "      <td>Ankara</td>\n",
       "      <td>büyük</td>\n",
       "      <td>Büyük</td>\n",
       "      <td>90</td>\n",
       "      <td>135</td>\n",
       "    </tr>\n",
       "    <tr>\n",
       "      <th>5</th>\n",
       "      <td>Hilal</td>\n",
       "      <td>66</td>\n",
       "      <td>Antalya</td>\n",
       "      <td>büyük</td>\n",
       "      <td>Büyük</td>\n",
       "      <td>330</td>\n",
       "      <td>132</td>\n",
       "    </tr>\n",
       "  </tbody>\n",
       "</table>\n",
       "</div>"
      ],
      "text/plain": [
       "    İsim  Yaş    Şehir Yaş_Ort_Büyük Yaş_Ort_Büyük2  Yeni_Yaş2  Yeni_Yaş\n",
       "0    Ali   15    İzmir         küçük          Küçük         75        60\n",
       "1   Veli   16   Ankara         küçük          Küçük         32        48\n",
       "2  Kenan   17    Konya         küçük          Küçük         85        34\n",
       "3  Murat   33   Ankara         büyük          Büyük         66        66\n",
       "4   Ayşe   45   Ankara         büyük          Büyük         90       135\n",
       "5  Hilal   66  Antalya         büyük          Büyük        330       132"
      ]
     },
     "execution_count": 17,
     "metadata": {},
     "output_type": "execute_result"
    }
   ],
   "source": [
    "df"
   ]
  },
  {
   "cell_type": "markdown",
   "id": "794cbb2f-b3a4-44f0-b40e-85060447e014",
   "metadata": {},
   "source": [
    "## Merging - Birleştirme"
   ]
  },
  {
   "cell_type": "code",
   "execution_count": 18,
   "id": "eb148e5f-9469-48cb-8a2f-e1780fa3b9eb",
   "metadata": {
    "tags": []
   },
   "outputs": [],
   "source": [
    "sozluk1 = {\"isim\": [\"ali\", \"veli\"],\n",
    "          \"yas\": [15, 16]}\n",
    "df1 = pd.DataFrame(sozluk1)\n",
    "\n",
    "sozluk2 = {\"isim\": [\"murat\", \"ayse\"],\n",
    "          \"yas\": [32, 33]}\n",
    "df2 = pd.DataFrame(sozluk2)"
   ]
  },
  {
   "cell_type": "code",
   "execution_count": 19,
   "id": "f508f605-cb5c-46ae-ac90-d271ed65e171",
   "metadata": {
    "tags": []
   },
   "outputs": [
    {
     "data": {
      "text/html": [
       "<div>\n",
       "<style scoped>\n",
       "    .dataframe tbody tr th:only-of-type {\n",
       "        vertical-align: middle;\n",
       "    }\n",
       "\n",
       "    .dataframe tbody tr th {\n",
       "        vertical-align: top;\n",
       "    }\n",
       "\n",
       "    .dataframe thead th {\n",
       "        text-align: right;\n",
       "    }\n",
       "</style>\n",
       "<table border=\"1\" class=\"dataframe\">\n",
       "  <thead>\n",
       "    <tr style=\"text-align: right;\">\n",
       "      <th></th>\n",
       "      <th>isim</th>\n",
       "      <th>yas</th>\n",
       "    </tr>\n",
       "  </thead>\n",
       "  <tbody>\n",
       "    <tr>\n",
       "      <th>0</th>\n",
       "      <td>ali</td>\n",
       "      <td>15</td>\n",
       "    </tr>\n",
       "    <tr>\n",
       "      <th>1</th>\n",
       "      <td>veli</td>\n",
       "      <td>16</td>\n",
       "    </tr>\n",
       "    <tr>\n",
       "      <th>0</th>\n",
       "      <td>murat</td>\n",
       "      <td>32</td>\n",
       "    </tr>\n",
       "    <tr>\n",
       "      <th>1</th>\n",
       "      <td>ayse</td>\n",
       "      <td>33</td>\n",
       "    </tr>\n",
       "  </tbody>\n",
       "</table>\n",
       "</div>"
      ],
      "text/plain": [
       "    isim  yas\n",
       "0    ali   15\n",
       "1   veli   16\n",
       "0  murat   32\n",
       "1   ayse   33"
      ]
     },
     "execution_count": 19,
     "metadata": {},
     "output_type": "execute_result"
    }
   ],
   "source": [
    "merged_df = pd.concat([df1, df2], axis = 0)\n",
    "merged_df"
   ]
  },
  {
   "cell_type": "code",
   "execution_count": 20,
   "id": "5edb35f6-ce3f-4b75-b18a-333250408d4d",
   "metadata": {
    "tags": []
   },
   "outputs": [],
   "source": [
    "sozluk1 = {\"isim\": [\"ali\", \"veli\"],\n",
    "          \"yas\": [15, 16]}\n",
    "df1 = pd.DataFrame(sozluk1)\n",
    "\n",
    "sozluk3 = {\"sehir\": [\"ankara\", \"istanbul\"],\n",
    "          \"yas\": [22, 23]}\n",
    "df3 = pd.DataFrame(sozluk3)"
   ]
  },
  {
   "cell_type": "code",
   "execution_count": 21,
   "id": "7f9a539a-b31c-48a4-984b-807643f1e213",
   "metadata": {
    "tags": []
   },
   "outputs": [
    {
     "data": {
      "text/html": [
       "<div>\n",
       "<style scoped>\n",
       "    .dataframe tbody tr th:only-of-type {\n",
       "        vertical-align: middle;\n",
       "    }\n",
       "\n",
       "    .dataframe tbody tr th {\n",
       "        vertical-align: top;\n",
       "    }\n",
       "\n",
       "    .dataframe thead th {\n",
       "        text-align: right;\n",
       "    }\n",
       "</style>\n",
       "<table border=\"1\" class=\"dataframe\">\n",
       "  <thead>\n",
       "    <tr style=\"text-align: right;\">\n",
       "      <th></th>\n",
       "      <th>isim</th>\n",
       "      <th>yas</th>\n",
       "      <th>sehir</th>\n",
       "    </tr>\n",
       "  </thead>\n",
       "  <tbody>\n",
       "    <tr>\n",
       "      <th>0</th>\n",
       "      <td>ali</td>\n",
       "      <td>15</td>\n",
       "      <td>NaN</td>\n",
       "    </tr>\n",
       "    <tr>\n",
       "      <th>1</th>\n",
       "      <td>veli</td>\n",
       "      <td>16</td>\n",
       "      <td>NaN</td>\n",
       "    </tr>\n",
       "    <tr>\n",
       "      <th>2</th>\n",
       "      <td>NaN</td>\n",
       "      <td>22</td>\n",
       "      <td>ankara</td>\n",
       "    </tr>\n",
       "    <tr>\n",
       "      <th>3</th>\n",
       "      <td>NaN</td>\n",
       "      <td>23</td>\n",
       "      <td>istanbul</td>\n",
       "    </tr>\n",
       "  </tbody>\n",
       "</table>\n",
       "</div>"
      ],
      "text/plain": [
       "   isim  yas     sehir\n",
       "0   ali   15       NaN\n",
       "1  veli   16       NaN\n",
       "2   NaN   22    ankara\n",
       "3   NaN   23  istanbul"
      ]
     },
     "execution_count": 21,
     "metadata": {},
     "output_type": "execute_result"
    }
   ],
   "source": [
    "merged_df2 = pd.concat([df1, df3], axis = 0, ignore_index = True)\n",
    "# merged_df2.reset_index(drop=True, inplace=True)\n",
    "merged_df2"
   ]
  }
 ],
 "metadata": {
  "kernelspec": {
   "display_name": "Python 3 (ipykernel)",
   "language": "python",
   "name": "python3"
  },
  "language_info": {
   "codemirror_mode": {
    "name": "ipython",
    "version": 3
   },
   "file_extension": ".py",
   "mimetype": "text/x-python",
   "name": "python",
   "nbconvert_exporter": "python",
   "pygments_lexer": "ipython3",
   "version": "3.11.5"
  }
 },
 "nbformat": 4,
 "nbformat_minor": 5
}
